{
 "cells": [
  {
   "cell_type": "markdown",
   "metadata": {},
   "source": [
    "# Load the data"
   ]
  },
  {
   "cell_type": "code",
   "execution_count": null,
   "metadata": {},
   "outputs": [],
   "source": [
    "import numpy as np\n",
    "import pandas as pd\n",
    "\n",
    "#import the data\n",
    "print('loding the data...')\n",
    "df=pd.read_csv('responses.csv')#len(df.columns) 150\n",
    "df.head()"
   ]
  },
  {
   "cell_type": "markdown",
   "metadata": {},
   "source": [
    "# Visualization"
   ]
  },
  {
   "cell_type": "code",
   "execution_count": null,
   "metadata": {},
   "outputs": [],
   "source": [
    "df.head()\n",
    "df.head()\n",
    "#df.tail()\n",
    "#df.describe() #gives stats for all numeric datatypes\n",
    "df.describe(include='all')\n",
    "#df.info()"
   ]
  },
  {
   "cell_type": "code",
   "execution_count": null,
   "metadata": {},
   "outputs": [],
   "source": [
    "print(\" rows and columns : \", df.shape)\n",
    "num = df.shape[0] # no of entries , rows\n",
    "#num = df.shape[1] \n",
    "num"
   ]
  },
  {
   "cell_type": "code",
   "execution_count": null,
   "metadata": {},
   "outputs": [],
   "source": [
    "# box-whisker plot\n",
    "%matplotlib inline\n",
    "df.Empathy.plot(kind='box');"
   ]
  },
  {
   "cell_type": "code",
   "execution_count": null,
   "metadata": {},
   "outputs": [],
   "source": [
    "#train_df.target.value_counts()\n",
    "#train_df.target.value_counts(normalize=True)\n",
    "df.Empathy.value_counts().plot(kind='bar', title='target_class counts')"
   ]
  },
  {
   "cell_type": "code",
   "execution_count": null,
   "metadata": {},
   "outputs": [],
   "source": [
    "df.Empathy.plot(kind='hist', title='histogram for Empathy');"
   ]
  },
  {
   "cell_type": "code",
   "execution_count": null,
   "metadata": {},
   "outputs": [],
   "source": [
    "# use kde for density plot\n",
    "df.Empathy.plot(kind='kde', title='Density plot for Empathy', color='c');"
   ]
  },
  {
   "cell_type": "code",
   "execution_count": null,
   "metadata": {},
   "outputs": [],
   "source": [
    "print('skewness for Empathy : {0:.2f}'.format(df.Empathy.skew()))"
   ]
  },
  {
   "cell_type": "code",
   "execution_count": null,
   "metadata": {},
   "outputs": [],
   "source": [
    "# use scatter plot for bi-variate distribution\n",
    "df.plot.scatter(x='Age', y='Empathy', color='c', title='scatter plot : Age vs Empathy',alpha=0.1);"
   ]
  },
  {
   "cell_type": "markdown",
   "metadata": {},
   "source": [
    "### Datatypes"
   ]
  },
  {
   "cell_type": "code",
   "execution_count": null,
   "metadata": {},
   "outputs": [],
   "source": [
    "dtype_df = df.dtypes.reset_index()\n",
    "dtype_df\n",
    "#dtype_df\n",
    "dtype_df.columns = [\"Count\", \"Column Type\"]\n",
    "dtype_df\n",
    "#dtype_df\n",
    "dtype_df.groupby(\"Column Type\").aggregate('count').reset_index() #counting no. of rows in different datatypes "
   ]
  },
  {
   "cell_type": "markdown",
   "metadata": {},
   "source": [
    "# Preprocessing"
   ]
  },
  {
   "cell_type": "markdown",
   "metadata": {},
   "source": [
    "### Missing Values"
   ]
  },
  {
   "cell_type": "code",
   "execution_count": null,
   "metadata": {},
   "outputs": [],
   "source": [
    "print('Preprocessing...')\n",
    "missing_df = df.isnull().sum(axis=0).reset_index() #gives how many null values are present in each column\n",
    "#missing_df # reset index attaches a new index column starting with 0\n",
    "missing_df.columns = ['column_name', 'missing_count'] #naming the columns\n",
    "#missing_df\n",
    "missing_df = missing_df[missing_df['missing_count']>0]# printing  missing values \n",
    "#missing_df # printing  missing values \n",
    "missing_df = missing_df.sort_values(by='missing_count')\n",
    "missing_df"
   ]
  },
  {
   "cell_type": "code",
   "execution_count": null,
   "metadata": {},
   "outputs": [],
   "source": [
    "## replacing null values with majority value\n",
    "\n",
    "cols=list(df.columns)\n",
    "#print(cols)\n",
    "df[cols]=df[cols].fillna(df.mode().iloc[0])\n",
    "\n",
    "#coln=df.columns\n",
    "#for i in coln:\n",
    "#    df = df.fillna({i: df[i].mode()[0]}, inplace=True)"
   ]
  },
  {
   "cell_type": "code",
   "execution_count": null,
   "metadata": {},
   "outputs": [],
   "source": [
    "\n",
    "#convert object datatype to categorical\n",
    "#in python- int, float, bool, datetime, timedelta, object, categorical\n",
    "print('converting categorical to numeric..')\n",
    "for y in df.columns:\n",
    "    if df[y].dtype.kind=='O':\n",
    "        df[y]=df[y].astype('category')\n",
    "        #print(df[y].dtype)\n",
    "        #print(df[y]\n",
    "df\n",
    "\n",
    "#one hot encoding\n",
    "print('one hot encoding..')\n",
    "df1=pd.get_dummies(df, columns=['Smoking','Alcohol','Punctuality','Lying','Internet usage','Gender','Left - right handed','Education','Only child','Village - town','House - block of flats'], prefix=[\"sm\", \"al\", \"pu\",\"ly\",\"internet\", \"gender\",\"handedness\",\"edu\",\"onlychild\",\"town\",\"house\"\n",
    "])\n",
    "#for each in df1.columns:\n",
    "#    print(each)\n"
   ]
  },
  {
   "cell_type": "code",
   "execution_count": null,
   "metadata": {},
   "outputs": [],
   "source": [
    "\n",
    "print('Splitting the data into X and y')\n",
    "#splitting into X and y\n",
    "y=df1['Empathy']\n",
    "#y=y_notvalues.values\n",
    "print(type(y))\n",
    "df1 = df1.drop('Empathy', 1)\n",
    "\n",
    "\n"
   ]
  },
  {
   "cell_type": "code",
   "execution_count": null,
   "metadata": {},
   "outputs": [],
   "source": [
    "df1.head()"
   ]
  },
  {
   "cell_type": "markdown",
   "metadata": {},
   "source": [
    "columns=[]\n",
    "for each in df1.columns:\n",
    "    columns.append(each)\n",
    "print(columns)"
   ]
  },
  {
   "cell_type": "code",
   "execution_count": null,
   "metadata": {},
   "outputs": [],
   "source": [
    "#train test split\n",
    "from sklearn.model_selection import train_test_split\n",
    "#split into X and Y\n",
    "\n",
    "\n",
    "print('train, dev, test split')\n",
    "X_train, X_test, y_train, y_test = train_test_split(df1, y, test_size=0.2, random_state=1) #train 80, test 20\n",
    "\n",
    "X_train, X_val, y_train, y_val = train_test_split(X_train, y_train, test_size=0.2, random_state=1) #train 64%, 16%\n",
    "\n",
    "print(type(y_train))"
   ]
  },
  {
   "cell_type": "markdown",
   "metadata": {},
   "source": [
    "## classification"
   ]
  },
  {
   "cell_type": "code",
   "execution_count": null,
   "metadata": {},
   "outputs": [],
   "source": [
    "#classification\n",
    "\n",
    "from sklearn import tree\n",
    "print('Trying with decisio tree classifier')\n",
    "clf=tree.DecisionTreeClassifier()#tune it.\n",
    "clf.fit(X_train,y_train)\n",
    "\n",
    "prediction=clf.predict(X_val)\n",
    "accuracy=np.mean((prediction)==y_val)\n",
    "print('Development accuracy with decision tree is ', accuracy)\n",
    "\n",
    "\n",
    "prediction=clf.predict(X_test)\n",
    "accuracy=np.mean((prediction)==y_test)\n",
    "print('Test accuracy with decision tree is ', accuracy)\n",
    "#0.321782178218\n"
   ]
  },
  {
   "cell_type": "code",
   "execution_count": null,
   "metadata": {},
   "outputs": [],
   "source": [
    "from sklearn import naive_bayes\n",
    "from nltk.classify import NaiveBayesClassifier\n",
    "clf=naive_bayes.MultinomialNB()\n",
    "\n",
    "clf.fit(X_train, y_train)\n",
    "\n",
    "prediction=clf.predict(X_val)\n",
    "accuracy=np.mean((prediction)==y_val)\n",
    "print('Development accuracy with naive bayesian  is ', accuracy)\n",
    "\n",
    "\n",
    "prediction=clf.predict(X_test)\n",
    "accuracy=np.mean((prediction)==y_test)\n",
    "print('Test accuracy with naive bayesian is ', accuracy)\n",
    "#0.351485148515"
   ]
  },
  {
   "cell_type": "markdown",
   "metadata": {},
   "source": [
    "## PCA"
   ]
  },
  {
   "cell_type": "code",
   "execution_count": null,
   "metadata": {},
   "outputs": [],
   "source": [
    "#Standardizing data before applying pca\n",
    "\n",
    "from sklearn.preprocessing import StandardScaler\n",
    "\n",
    "scaler = StandardScaler()\n",
    "# Fit on training set only.\n",
    "scaler.fit(X_train)\n",
    "# Apply transform to both the training set and the test set.\n",
    "X_train = scaler.transform(X_train)\n",
    "X_val = scaler.transform(X_val)\n",
    "X_test = scaler.transform(X_test)"
   ]
  },
  {
   "cell_type": "code",
   "execution_count": null,
   "metadata": {},
   "outputs": [],
   "source": [
    "\n",
    "from sklearn.decomposition import PCA\n",
    "print('using pca')\n",
    "pca = PCA(n_components=30)#retain features with that percentage of variance\n",
    "\n",
    "pca.fit(X_train)#fit the training data with pca\n",
    "X_train = pca.transform(X_train)#transform \n",
    "\n",
    "X_val=pca.transform(X_val)\n",
    "X_test = pca.transform(X_test)"
   ]
  },
  {
   "cell_type": "code",
   "execution_count": null,
   "metadata": {},
   "outputs": [],
   "source": [
    "\n",
    "from sklearn.linear_model import LogisticRegression\n",
    "print('using logistic regression ')\n",
    "logisticRegr_model = LogisticRegression(solver = 'lbfgs')\n",
    "logisticRegr_model.fit(X_train, y_train)\n",
    "\n",
    "\n",
    "\n",
    "#validation\n",
    "prediction=logisticRegr_model.predict(X_val)\n",
    "accuracy=np.mean((prediction)==y_val)\n",
    "print('Development accuracy with logistic regression with pca is:', accuracy)\n",
    "\n",
    "\n",
    "#print(prediction)\n",
    "#test\n",
    "prediction=logisticRegr_model.predict(X_test)\n",
    "accuracy=np.mean((prediction)==y_test)\n",
    "print('test accuracy with logistic regression with pca is:', accuracy)"
   ]
  },
  {
   "cell_type": "markdown",
   "metadata": {},
   "source": [
    "# Model Persistence"
   ]
  },
  {
   "cell_type": "code",
   "execution_count": null,
   "metadata": {},
   "outputs": [],
   "source": [
    "#classification\n",
    "\n",
    "from sklearn import tree\n",
    "print('Trying with decision tree classifier')\n",
    "clf=tree.DecisionTreeClassifier()#tune it.\n",
    "clf.fit(X_train,y_train)\n",
    "\n"
   ]
  },
  {
   "cell_type": "code",
   "execution_count": null,
   "metadata": {},
   "outputs": [],
   "source": [
    "import pickle# converts python objects into bytes which makes it faster to load\n",
    "youngpeoplesurvey_pickle=open('youngpeoplemodel.pkl','wb')\n",
    "pickle.dump(logisticRegr_model,youngpeoplesurvey_pickle)\n",
    "youngpeoplesurvey_pickle.close()"
   ]
  },
  {
   "cell_type": "code",
   "execution_count": null,
   "metadata": {},
   "outputs": [],
   "source": [
    "#Unpickling\n",
    "\n",
    "model_pkl=open('youngpeoplemodel.pkl','rb')\n",
    "model=pickle.load(model_pkl)\n",
    "model"
   ]
  },
  {
   "cell_type": "code",
   "execution_count": null,
   "metadata": {},
   "outputs": [],
   "source": [
    "# testing the model\n",
    "prediction=model.predict(X_test)\n",
    "accuracy=np.mean((prediction)==y_test)\n",
    "print('test accuracy with logistic regression with pca is:', accuracy)"
   ]
  },
  {
   "cell_type": "markdown",
   "metadata": {},
   "source": [
    "# Flask"
   ]
  },
  {
   "cell_type": "code",
   "execution_count": null,
   "metadata": {},
   "outputs": [],
   "source": [
    "import requests\n",
    "def make_api_request(data):\n",
    "    url='http://127.0.0.1:9000/api'\n",
    "    r=requests.post(url,data)#make post request\n",
    "    return r.json()"
   ]
  },
  {
   "cell_type": "code",
   "execution_count": null,
   "metadata": {},
   "outputs": [],
   "source": [
    "subset_test=X_test[:5]\n"
   ]
  },
  {
   "cell_type": "code",
   "execution_count": null,
   "metadata": {},
   "outputs": [],
   "source": [
    "make_api_request(subset_test)"
   ]
  },
  {
   "cell_type": "code",
   "execution_count": null,
   "metadata": {},
   "outputs": [],
   "source": []
  }
 ],
 "metadata": {
  "kernelspec": {
   "display_name": "Python 3",
   "language": "python",
   "name": "python3"
  },
  "language_info": {
   "codemirror_mode": {
    "name": "ipython",
    "version": 3
   },
   "file_extension": ".py",
   "mimetype": "text/x-python",
   "name": "python",
   "nbconvert_exporter": "python",
   "pygments_lexer": "ipython3",
   "version": "3.6.5"
  }
 },
 "nbformat": 4,
 "nbformat_minor": 2
}
