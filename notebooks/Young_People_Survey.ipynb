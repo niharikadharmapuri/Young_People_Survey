{
 "cells": [
  {
   "cell_type": "code",
   "execution_count": 2,
   "metadata": {},
   "outputs": [
    {
     "name": "stdout",
     "output_type": "stream",
     "text": [
      "loding the data\n"
     ]
    }
   ],
   "source": [
    "import numpy as np\n",
    "import pandas as pd\n",
    "\n",
    "#import the data\n",
    "print('loding the data')\n",
    "df=pd.read_csv('responses.csv')#len(df.columns) 150"
   ]
  },
  {
   "cell_type": "code",
   "execution_count": 3,
   "metadata": {},
   "outputs": [
    {
     "name": "stdout",
     "output_type": "stream",
     "text": [
      "Preprocessing\n",
      "converting categorical to numeric\n"
     ]
    }
   ],
   "source": [
    "##replacing null values with majority value\n",
    "print('Preprocessing')\n",
    "coln=df.columns\n",
    "for i in coln:\n",
    "    df = df.fillna({i: df[i].mode()[0]}, inplace=True)\n",
    "    \n",
    "#convert object datatype to categorical\n",
    "print('converting categorical to numeric')\n",
    "for y in df.columns:\n",
    "    if df[y].dtype.kind=='O':\n",
    "        df[y]=df[y].astype('category')\n",
    "        #print(df[y].dtype)\n",
    "        #print(df[y]\n",
    "df\n",
    "\n",
    "#one hot encoding\n",
    "df1=pd.get_dummies(df, columns=['Smoking','Alcohol','Punctuality','Lying','Internet usage','Gender','Left - right handed','Education','Only child','Village - town','House - block of flats'], prefix=[\"sm\", \"al\", \"pu\",\"ly\",\"internet\", \"gender\",\"handedness\",\"edu\",\"onlychild\",\"town\",\"house\"\n",
    "])\n",
    "#df1\n"
   ]
  },
  {
   "cell_type": "code",
   "execution_count": 4,
   "metadata": {},
   "outputs": [
    {
     "name": "stdout",
     "output_type": "stream",
     "text": [
      "Splitting the data into X and y\n",
      "train, dev, test split\n"
     ]
    }
   ],
   "source": [
    "\n",
    "print('Splitting the data into X and y')\n",
    "#splitting into X and y\n",
    "y=df1['Empathy']\n",
    "#y=y_notvalues.values\n",
    "\n",
    "df1 = df1.drop('Empathy', 1)\n",
    "\n",
    "\n",
    "#train test split\n",
    "from sklearn.model_selection import train_test_split\n",
    "#split into X and Y\n",
    "\n",
    "\n",
    "print('train, dev, test split')\n",
    "X_train, X_test, y_train, y_test = train_test_split(df1, y, test_size=0.2, random_state=1) #train 80, test 20\n",
    "\n",
    "X_train, X_val, y_train, y_val = train_test_split(X_train, y_train, test_size=0.2, random_state=1) #train 64%, 16%\n"
   ]
  },
  {
   "cell_type": "code",
   "execution_count": 5,
   "metadata": {},
   "outputs": [
    {
     "name": "stdout",
     "output_type": "stream",
     "text": [
      "Trying with decisio tree classifier\n",
      "Development accuracy with decision tree is  0.376543209877\n",
      "Test accuracy with decision tree is  0.306930693069\n"
     ]
    }
   ],
   "source": [
    "#classification\n",
    "\n",
    "from sklearn import tree\n",
    "print('Trying with decisio tree classifier')\n",
    "clf=tree.DecisionTreeClassifier()#tune it.\n",
    "clf.fit(X_train,y_train)\n",
    "\n",
    "prediction=clf.predict(X_val)\n",
    "accuracy=np.mean((prediction)==y_val)\n",
    "print('Development accuracy with decision tree is ', accuracy)\n",
    "\n",
    "\n",
    "prediction=clf.predict(X_test)\n",
    "accuracy=np.mean((prediction)==y_test)\n",
    "print('Test accuracy with decision tree is ', accuracy)\n",
    "#0.321782178218\n"
   ]
  },
  {
   "cell_type": "code",
   "execution_count": null,
   "metadata": {
    "collapsed": true
   },
   "outputs": [],
   "source": [
    "from sklearn import naive_bayes\n",
    "from nltk.classify import NaiveBayesClassifier\n",
    "clf=naive_bayes.MultinomialNB()\n",
    "\n",
    "clf.fit(X_train, y_train)\n",
    "\n",
    "prediction=clf.predict(X_val)\n",
    "accuracy=np.mean((prediction)==y_val)\n",
    "print('Development accuracy with naive bayesian  is ', accuracy)\n",
    "\n",
    "\n",
    "prediction=clf.predict(X_test)\n",
    "accuracy=np.mean((prediction)==y_test)\n",
    "print('Test accuracy with naive bayesian is ', accuracy)\n",
    "#0.351485148515"
   ]
  },
  {
   "cell_type": "code",
   "execution_count": 6,
   "metadata": {},
   "outputs": [
    {
     "name": "stdout",
     "output_type": "stream",
     "text": [
      "using pca\n",
      "using logistic regression \n",
      "Development accuracy with logistic regression with pca is: 0.388888888889\n",
      "test accuracy with logistic regression with pca is: 0.366336633663\n"
     ]
    }
   ],
   "source": [
    "\n",
    "from sklearn.decomposition import PCA\n",
    "print('using pca')\n",
    "pca = PCA(n_components=30)#retain features with that percentage of variance\n",
    "\n",
    "pca.fit(X_train)#fit the training data with pca\n",
    "X_train = pca.transform(X_train)#transform \n",
    "\n",
    "X_val=pca.transform(X_val)\n",
    "X_test = pca.transform(X_test)\n",
    "\n",
    "\n",
    "from sklearn.linear_model import LogisticRegression\n",
    "print('using logistic regression ')\n",
    "logisticRegr = LogisticRegression(solver = 'lbfgs')\n",
    "logisticRegr.fit(X_train, y_train)\n",
    "\n",
    "\n",
    "\n",
    "#validation\n",
    "prediction=logisticRegr.predict(X_val)\n",
    "accuracy=np.mean((prediction)==y_val)\n",
    "print('Development accuracy with logistic regression with pca is:', accuracy)\n",
    "\n",
    "\n",
    "#print(prediction)\n",
    "#test\n",
    "prediction=logisticRegr.predict(X_test)\n",
    "accuracy=np.mean((prediction)==y_test)\n",
    "print('test accuracy with logistic regression with pca is:', accuracy)\n",
    "\n",
    "\n"
   ]
  },
  {
   "cell_type": "code",
   "execution_count": null,
   "metadata": {
    "collapsed": true
   },
   "outputs": [],
   "source": []
  }
 ],
 "metadata": {
  "kernelspec": {
   "display_name": "Python 3",
   "language": "python",
   "name": "python3"
  },
  "language_info": {
   "codemirror_mode": {
    "name": "ipython",
    "version": 3
   },
   "file_extension": ".py",
   "mimetype": "text/x-python",
   "name": "python",
   "nbconvert_exporter": "python",
   "pygments_lexer": "ipython3",
   "version": "3.6.3"
  }
 },
 "nbformat": 4,
 "nbformat_minor": 2
}
